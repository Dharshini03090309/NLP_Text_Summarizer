{
  "nbformat": 4,
  "nbformat_minor": 0,
  "metadata": {
    "colab": {
      "provenance": []
    },
    "kernelspec": {
      "name": "python3",
      "display_name": "Python 3"
    },
    "language_info": {
      "name": "python"
    }
  },
  "cells": [
    {
      "cell_type": "markdown",
      "source": [
        "# Text Summarizer Project Using Natural Language Processing\n",
        "\n",
        "This project showcases a simple extractive text summarizer tool implemented in Python and Natural Language Toolkit (NLTK). The system takes an input text, cleanses and tokenizes it, and computes the frequency of significant words while disregarding common stopwords. Each sentence is ranked using the normalized frequencies of its words, and the highest-ranked sentences are chosen to produce a brief summary. This method effectively summarizes lengthy articles or paragraphs into brief versions that maintain the salient details, which are simpler and faster to understand the major concepts of the text. The project showcases basic NLP methods like tokenization, stopword elimination, sentence scoring, and ranking, setting the stage for more sophisticated summarization models."
      ],
      "metadata": {
        "id": "LvjAx364OsT1"
      }
    },
    {
      "cell_type": "code",
      "execution_count": null,
      "metadata": {
        "colab": {
          "base_uri": "https://localhost:8080/"
        },
        "id": "bRKco26uLOCQ",
        "outputId": "29a37085-6ee8-4206-f047-14946cb8bc2d"
      },
      "outputs": [
        {
          "output_type": "stream",
          "name": "stdout",
          "text": [
            "Requirement already satisfied: nltk in /usr/local/lib/python3.11/dist-packages (3.9.1)\n",
            "Requirement already satisfied: click in /usr/local/lib/python3.11/dist-packages (from nltk) (8.2.0)\n",
            "Requirement already satisfied: joblib in /usr/local/lib/python3.11/dist-packages (from nltk) (1.5.0)\n",
            "Requirement already satisfied: regex>=2021.8.3 in /usr/local/lib/python3.11/dist-packages (from nltk) (2024.11.6)\n",
            "Requirement already satisfied: tqdm in /usr/local/lib/python3.11/dist-packages (from nltk) (4.67.1)\n"
          ]
        }
      ],
      "source": [
        "!pip install nltk"
      ]
    },
    {
      "cell_type": "code",
      "source": [
        "import nltk\n",
        "import re\n",
        "import heapq\n",
        "nltk.download('punkt')\n",
        "nltk.download('punkt_tab')\n",
        "nltk.download('stopwords')\n",
        "from nltk.corpus import stopwords\n",
        "from nltk.tokenize import word_tokenize, sent_tokenize"
      ],
      "metadata": {
        "colab": {
          "base_uri": "https://localhost:8080/"
        },
        "id": "WMVGf1R4LQFx",
        "outputId": "d994727b-68ff-4866-c457-7f66b1431a38"
      },
      "execution_count": null,
      "outputs": [
        {
          "output_type": "stream",
          "name": "stderr",
          "text": [
            "[nltk_data] Downloading package punkt to /root/nltk_data...\n",
            "[nltk_data]   Package punkt is already up-to-date!\n",
            "[nltk_data] Downloading package punkt_tab to /root/nltk_data...\n",
            "[nltk_data]   Unzipping tokenizers/punkt_tab.zip.\n",
            "[nltk_data] Downloading package stopwords to /root/nltk_data...\n",
            "[nltk_data]   Package stopwords is already up-to-date!\n"
          ]
        }
      ]
    },
    {
      "cell_type": "code",
      "source": [
        "text = \"\"\"Interstellar is a Christopher Nolan movie exploring the vast galaxy through a time and space paradox. The movie primarily focuses on life. Earth is coming to an end and a few astronauts are traveling to find another home at the end of the galaxy.\n",
        "\n",
        "Han Zimmer has created an excellent background score to cover up the visual effect through the eyes of the camera. The movie has an excellent cast, which includes Matthew McConaughey, Anne Hathaway, and Michael Caine. Well, the movie starts with a family where a Nasa(Matthew McConaughey) astronaut lives with his children and his father-in-law. In the beginning, it will be noticeable that the corn is getting destroyed. Murph, the younger daughter, is always afraid of a ghost living in the house where the ghost always messages Murph with some symbols.\n",
        "\n",
        "It is likely that there will be a dust storm someday when the ghost will try to communicate with Murph and her family again. Being a NASA astronaut, Cooper will understand the message and he can predict what the ghost is trying to say. Analyzing the pattern of the symbol reveals that it is the location of an unknown place, which was later known to be NASA.\n",
        "At NASA, the scientist, Dr. Brand (Michel Caine), comes to tell us that the world is going to end and they are looking for some astronaut who will help them to find another world somewhere in the galaxy or another galaxy for the sustainability of the future. Dr. Brand has a team of scientists and a robot (TARS), but they require a pilot with actual practical experience. For the future of Murph and Timothy, Cooper will accept this mission, and he will go to find another world or another home for the future generation. This is the beginning of the movie Interstellar.  As you watch the movie, there are many aspects like the space-time paradox, a parallel world to the theory of relativity. For instance, they will find a planet similar to Earth while travelling on that planet for inspection. When Cooper returns to the spaceship, they will notice that a half hour on the planet is 25 years for Earth, equivalent to most of the life span of children.\n",
        "At the end of the movie, when Cooper and Amelia Brand (Anne Hathaway) find out that everything was planned by Dr. Brand, and he was trying to save a couple of scientists and astronauts, including his daughter. Hearing this, Cooper wanted to return home to connect with his daughter and son, which was already too late for the timeline. While going through the wormhole, Cooper entered a portal and got connected to the bookshelf in Murph's room, where she used to live, so he tried to connect with Murph through the dust. Later in the movie, Murph, in his older age, realises that the ghost was none other than his father, Cooper.\n",
        "\n",
        "Interestingly, Nolan has studied with other scientists the design of the black hole. It's not randomly designed. After analysing this with the other scientists, they created this graphical blackhole, which is somewhat similar to a real blackhole when studied in the future. Nolan has used some panoramic camera shots for massive coverage of space, which justifies and suits the character of the movie.\n",
        "\n",
        "It's a movie that blends science and drama, with good visual effects, a background score, and an excellent cast. Also, every dramatic scene Zimmer made was so good to watch that it sometimes felt like a classic Nolan movie. With an excellent background score, the audience was always reminded that they were getting a vibe of movies like Batman, The Prestige, etc. The movie has won many awards, starting with the Academy Award for best visual effects, the Empire Award for best director and best film. It was truly a mind-boggling movie experience.\"\"\"\n"
      ],
      "metadata": {
        "id": "bTZneJ1KLZE4"
      },
      "execution_count": null,
      "outputs": []
    },
    {
      "cell_type": "markdown",
      "source": [
        "Preprocessing the text input"
      ],
      "metadata": {
        "id": "UqRwuxkANMrL"
      }
    },
    {
      "cell_type": "code",
      "source": [
        "clean_text = re.sub(r'\\[[0-9]*\\]', ' ', text)\n",
        "clean_text = re.sub(r'\\s+', ' ', clean_text)\n",
        "formatted_text = re.sub('[^a-zA-Z]', ' ', clean_text)\n",
        "formatted_text = re.sub(r'\\s+', ' ', formatted_text)"
      ],
      "metadata": {
        "id": "FHhWi4qVLjI7"
      },
      "execution_count": null,
      "outputs": []
    },
    {
      "cell_type": "markdown",
      "source": [
        "Tokenization and word frequencies"
      ],
      "metadata": {
        "id": "WGzDaHFRNTwQ"
      }
    },
    {
      "cell_type": "code",
      "source": [
        "stop_words = set(stopwords.words('english'))\n",
        "word_frequencies = {}\n",
        "for word in word_tokenize(formatted_text.lower()):\n",
        "    if word not in stop_words:\n",
        "        if word not in word_frequencies:\n",
        "            word_frequencies[word] = 1\n",
        "        else:\n",
        "            word_frequencies[word] += 1\n"
      ],
      "metadata": {
        "id": "uIyHfcnRLlyW"
      },
      "execution_count": null,
      "outputs": []
    },
    {
      "cell_type": "markdown",
      "source": [
        "Normalizing word frequencies"
      ],
      "metadata": {
        "id": "xPuJtSjeNcgv"
      }
    },
    {
      "cell_type": "code",
      "source": [
        "max_freq = max(word_frequencies.values())\n",
        "for word in word_frequencies:\n",
        "    word_frequencies[word] = word_frequencies[word] / max_freq"
      ],
      "metadata": {
        "id": "ZcdtQLrBLr1K"
      },
      "execution_count": null,
      "outputs": []
    },
    {
      "cell_type": "markdown",
      "source": [
        "Score sentences"
      ],
      "metadata": {
        "id": "bKl1bn8eNixS"
      }
    },
    {
      "cell_type": "code",
      "source": [
        "sentence_scores = {}\n",
        "sentences = sent_tokenize(text)\n",
        "for sentence in sentences:\n",
        "    for word in word_tokenize(sentence.lower()):\n",
        "        if word in word_frequencies:\n",
        "            if len(sentence.split(' ')) < 30:\n",
        "                if sentence not in sentence_scores:\n",
        "                    sentence_scores[sentence] = word_frequencies[word]\n",
        "                else:\n",
        "                    sentence_scores[sentence] += word_frequencies[word]\n",
        "\n"
      ],
      "metadata": {
        "id": "qSI3SMtJLuAz"
      },
      "execution_count": null,
      "outputs": []
    },
    {
      "cell_type": "markdown",
      "source": [
        "Output"
      ],
      "metadata": {
        "id": "m62X47HLOfyB"
      }
    },
    {
      "cell_type": "code",
      "source": [
        "import textwrap\n",
        "\n",
        "summary = ' '.join(summary_sentences)\n",
        "wrapped_summary = textwrap.fill(summary, width=60)\n",
        "\n",
        "print(\"Summary:\\n\",wrapped_summary)\n"
      ],
      "metadata": {
        "colab": {
          "base_uri": "https://localhost:8080/"
        },
        "id": "sVXa78hWOVxU",
        "outputId": "03bca62e-ff55-4749-a55f-0bf3f9857363"
      },
      "execution_count": null,
      "outputs": [
        {
          "output_type": "stream",
          "name": "stdout",
          "text": [
            "Summary:\n",
            " For the future of Murph and Timothy, Cooper will accept this\n",
            "mission, and he will go to find another world or another\n",
            "home for the future generation. At the end of the movie,\n",
            "when Cooper and Amelia Brand (Anne Hathaway) find out that\n",
            "everything was planned by Dr. Later in the movie, Murph, in\n",
            "his older age, realises that the ghost was none other than\n",
            "his father, Cooper. Murph, the younger daughter, is always\n",
            "afraid of a ghost living in the house where the ghost always\n",
            "messages Murph with some symbols. The movie has won many\n",
            "awards, starting with the Academy Award for best visual\n",
            "effects, the Empire Award for best director and best film.\n"
          ]
        }
      ]
    }
  ]
}